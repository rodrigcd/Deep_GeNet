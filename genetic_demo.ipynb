{
 "cells": [
  {
   "cell_type": "code",
   "execution_count": 1,
   "metadata": {
    "collapsed": false
   },
   "outputs": [],
   "source": [
    "import numpy as np\n",
    "import genetic as gn"
   ]
  },
  {
   "cell_type": "code",
   "execution_count": 2,
   "metadata": {
    "collapsed": false
   },
   "outputs": [
    {
     "name": "stdout",
     "output_type": "stream",
     "text": [
      "------Genome------\n",
      "---Chromosome 0: \n",
      "convolution:\n",
      "kernel 0: filter size = (3, 3), stride = 1\n",
      "kernel 1: filter size = (3, 3), stride = 1\n",
      "kernel 2: filter size = (3, 3), stride = 1\n",
      "kernel 3: filter size = (3, 3), stride = 1\n",
      "---Chromosome 1: \n",
      "pooling: size = (2, 2) stride = 1\n",
      "------Genome------\n",
      "---Chromosome 0: \n",
      "convolution:\n",
      "kernel 0: filter size = (3, 3), stride = 1\n",
      "kernel 1: filter size = (3, 3), stride = 1\n",
      "kernel 2: filter size = (3, 3), stride = 1\n",
      "kernel 3: filter size = (3, 3), stride = 1\n",
      "---Chromosome 1: \n",
      "pooling: size = (2, 2) stride = 1\n"
     ]
    }
   ],
   "source": [
    "gen1 = gn.Genome()\n",
    "gen2 = gn.Genome()\n",
    "\n",
    "print gen1\n",
    "print gen2"
   ]
  },
  {
   "cell_type": "code",
   "execution_count": 3,
   "metadata": {
    "collapsed": false
   },
   "outputs": [
    {
     "name": "stdout",
     "output_type": "stream",
     "text": [
      "[[ 0.61008405 -1.44239923  0.57215531]\n",
      " [ 1.29832363 -1.82968342  0.36199521]\n",
      " [-0.73333775  1.03862676 -2.0776337 ]]\n"
     ]
    }
   ],
   "source": [
    "print gen1.chromosomes[0].genes[0].kernel"
   ]
  },
  {
   "cell_type": "code",
   "execution_count": 4,
   "metadata": {
    "collapsed": false
   },
   "outputs": [
    {
     "name": "stdout",
     "output_type": "stream",
     "text": [
      "[[-0.43206049 -1.62301818 -0.91844164]\n",
      " [ 0.53925865 -2.77827009 -0.60823894]\n",
      " [-0.70340849  2.10619278 -2.07229981]]\n"
     ]
    }
   ],
   "source": [
    "gen1.mutate(p = 1)\n",
    "print gen1.chromosomes[0].genes[0].kernel"
   ]
  },
  {
   "cell_type": "code",
   "execution_count": 5,
   "metadata": {
    "collapsed": false
   },
   "outputs": [
    {
     "name": "stdout",
     "output_type": "stream",
     "text": [
      "------Genome------\n",
      "---Chromosome 0: \n",
      "convolution:\n",
      "kernel 0: filter size = (5, 5), stride = 1\n",
      "kernel 1: filter size = (4, 4), stride = 1\n",
      "kernel 2: filter size = (7, 7), stride = 1\n",
      "kernel 3: filter size = (2, 2), stride = 1\n",
      "---Chromosome 1: \n",
      "pooling: size = (2, 2) stride = 1\n"
     ]
    }
   ],
   "source": [
    "\n",
    "gen1.chromosomes[0].genes[0].kernel = np.random.normal(size = (5,5))\n",
    "gen1.chromosomes[0].genes[1].kernel = np.random.normal(size = (4,4))\n",
    "gen1.chromosomes[0].genes[2].kernel = np.random.normal(size = (7,7))\n",
    "gen1.chromosomes[0].genes[3].kernel = np.random.normal(size = (2,2))\n",
    "print gen1"
   ]
  },
  {
   "cell_type": "code",
   "execution_count": 6,
   "metadata": {
    "collapsed": false
   },
   "outputs": [
    {
     "name": "stdout",
     "output_type": "stream",
     "text": [
      "convolution:\n",
      "kernel 0: filter size = (5, 5), stride = 1\n",
      "kernel 1: filter size = (4, 4), stride = 1\n",
      "kernel 2: filter size = (7, 7), stride = 1\n",
      "kernel 3: filter size = (2, 2), stride = 1\n",
      "\n",
      "convolution:\n",
      "kernel 0: filter size = (3, 3), stride = 1\n",
      "kernel 1: filter size = (3, 3), stride = 1\n",
      "kernel 2: filter size = (3, 3), stride = 1\n",
      "kernel 3: filter size = (3, 3), stride = 1\n",
      "\n"
     ]
    }
   ],
   "source": [
    "chromosome1 = gen1.chromosomes[0]\n",
    "chromosome2 = gen2.chromosomes[0]\n",
    "print chromosome1\n",
    "print chromosome2\n"
   ]
  },
  {
   "cell_type": "code",
   "execution_count": 7,
   "metadata": {
    "collapsed": false
   },
   "outputs": [
    {
     "name": "stdout",
     "output_type": "stream",
     "text": [
      "convolution:\n",
      "kernel 0: filter size = (5, 5), stride = 1\n",
      "kernel 1: filter size = (4, 4), stride = 1\n",
      "kernel 2: filter size = (7, 7), stride = 1\n",
      "kernel 3: filter size = (3, 3), stride = 1\n",
      "kernel 4: filter size = (3, 3), stride = 1\n",
      "\n",
      "convolution:\n",
      "kernel 0: filter size = (3, 3), stride = 1\n",
      "kernel 1: filter size = (3, 3), stride = 1\n",
      "kernel 2: filter size = (2, 2), stride = 1\n",
      "\n"
     ]
    }
   ],
   "source": [
    "child1, child2 = chromosome1.geneCrossover(chromosome2)\n",
    "print child1\n",
    "print child2"
   ]
  },
  {
   "cell_type": "code",
   "execution_count": null,
   "metadata": {
    "collapsed": true
   },
   "outputs": [],
   "source": []
  }
 ],
 "metadata": {
  "kernelspec": {
   "display_name": "Python 2",
   "language": "python",
   "name": "python2"
  },
  "language_info": {
   "codemirror_mode": {
    "name": "ipython",
    "version": 2
   },
   "file_extension": ".py",
   "mimetype": "text/x-python",
   "name": "python",
   "nbconvert_exporter": "python",
   "pygments_lexer": "ipython2",
   "version": "2.7.6"
  }
 },
 "nbformat": 4,
 "nbformat_minor": 1
}
